{
 "cells": [
  {
   "cell_type": "code",
   "execution_count": 15,
   "id": "23fca997",
   "metadata": {},
   "outputs": [],
   "source": [
    "#Q1\n",
    "import numpy as np\n",
    "from math import sqrt\n",
    "import pandas as pd\n",
    "from sklearn.datasets import load_iris\n",
    "from sklearn.metrics import confusion_matrix\n",
    "from sklearn.naive_bayes import GaussianNB\n",
    "from sklearn.model_selection import train_test_split\n",
    "from sklearn.metrics import classification_report\n",
    "from sklearn import metrics\n",
    "from sklearn.preprocessing import LabelEncoder"
   ]
  },
  {
   "cell_type": "code",
   "execution_count": 16,
   "id": "66cabf51",
   "metadata": {},
   "outputs": [],
   "source": [
    "df = pd.read_csv('weatherdata.csv')\n",
    "le = LabelEncoder()"
   ]
  },
  {
   "cell_type": "code",
   "execution_count": 17,
   "id": "c3cb7f20",
   "metadata": {},
   "outputs": [],
   "source": [
    "label = le.fit_transform(df['Decision'])\n",
    "df.drop('Decision', axis=1, inplace=True)\n",
    "df[\"Decision\"] = label"
   ]
  },
  {
   "cell_type": "code",
   "execution_count": 18,
   "id": "1ab914c5",
   "metadata": {},
   "outputs": [],
   "source": [
    "label = le.fit_transform(df['Outlook'])\n",
    "df.drop('Outlook', axis=1, inplace=True)\n",
    "df[\"Outlook\"] = label"
   ]
  },
  {
   "cell_type": "code",
   "execution_count": 19,
   "id": "a97a83b7",
   "metadata": {},
   "outputs": [],
   "source": [
    "label = le.fit_transform(df['Temperature'])\n",
    "df.drop('Temperature', axis=1, inplace=True)\n",
    "df[\"Temperature\"] = label"
   ]
  },
  {
   "cell_type": "code",
   "execution_count": 20,
   "id": "4ffb5007",
   "metadata": {},
   "outputs": [],
   "source": [
    "label = le.fit_transform(df['Humidity'])\n",
    "df.drop('Humidity', axis=1, inplace=True)\n",
    "df[\"Humidity\"] = label"
   ]
  },
  {
   "cell_type": "code",
   "execution_count": 21,
   "id": "f2e7a511",
   "metadata": {},
   "outputs": [],
   "source": [
    "label = le.fit_transform(df['Wind'])\n",
    "df.drop('Wind', axis=1, inplace=True)\n",
    "df[\"Wind\"] = label"
   ]
  },
  {
   "cell_type": "code",
   "execution_count": 22,
   "id": "cf0de1f7",
   "metadata": {},
   "outputs": [
    {
     "name": "stdout",
     "output_type": "stream",
     "text": [
      "0     0\n",
      "1     0\n",
      "2     1\n",
      "3     1\n",
      "4     1\n",
      "5     0\n",
      "6     1\n",
      "7     0\n",
      "8     1\n",
      "9     1\n",
      "10    1\n",
      "11    1\n",
      "12    1\n",
      "13    0\n",
      "Name: Decision, dtype: int32\n",
      "    Outlook  Temperature  Humidity  Wind\n",
      "0         2            1         0     1\n",
      "1         2            1         0     0\n",
      "2         0            1         0     1\n",
      "3         1            2         0     1\n",
      "4         1            0         1     1\n",
      "5         1            0         1     0\n",
      "6         0            0         1     0\n",
      "7         2            2         0     1\n",
      "8         2            0         1     1\n",
      "9         1            2         1     1\n",
      "10        2            2         1     0\n",
      "11        0            2         0     0\n",
      "12        0            1         1     1\n",
      "13        1            2         0     0\n",
      "Confusion Matrix : \n",
      "[[1 0]\n",
      " [1 4]]\n",
      "\n",
      "Gaussian Naive Bayes model accuracy(in %): 83.33333333333334\n",
      "\n",
      "Root Mean Squared Error for the given data is  0.9128709291752769\n",
      "\n",
      "Mean Absolute Error for the given data is  0.8333333333333334\n",
      "\n",
      "R-Squared for the given data is  0.5555555555555552\n",
      "\n",
      "Classification Report : \n",
      "              precision    recall  f1-score   support\n",
      "\n",
      "           0       0.50      1.00      0.67         1\n",
      "           1       1.00      0.80      0.89         5\n",
      "\n",
      "    accuracy                           0.83         6\n",
      "   macro avg       0.75      0.90      0.78         6\n",
      "weighted avg       0.92      0.83      0.85         6\n",
      "\n"
     ]
    }
   ],
   "source": [
    "y = df['Decision']\n",
    "X = df.drop(['Decision','Day'],axis = 1)\n",
    "print(y)\n",
    "print(X)\n",
    "# splitting X and y into training and testing sets\n",
    "X_train, X_test, y_train, y_test = train_test_split(X, y, test_size=0.4, random_state=1)\n",
    "# training the model on training set\n",
    "gnb = GaussianNB()\n",
    "gnb.fit(X_train, y_train)\n",
    "# making predictions on the testing set\n",
    "y_pred = gnb.predict(X_test)\n",
    "# comparing actual response values (y_test) with predicted response values (y_pred)\n",
    "print(\"Confusion Matrix : \")\n",
    "print(confusion_matrix(y_test, y_pred))\n",
    "print(\"\\nGaussian Naive Bayes model accuracy(in %):\", metrics.accuracy_score(y_test, y_pred)*100)\n",
    "# 1. RMSE: Root Mean Squared Error\n",
    "# 2. MAE: Mean Absolute Error\n",
    "# 3. R-Squared Error\n",
    "y_mean = np.mean(y)\n",
    "rmse_nume = 0\n",
    "mae_nume = 0\n",
    "n = len(y_pred)\n",
    "for i in y:\n",
    "    j = 0\n",
    "    if(j<n):\n",
    "        rmse_nume += (i - y_pred[j])**2\n",
    "        mae_nume += abs(i - y_pred[j])\n",
    "        j = j+1\n",
    "SSR = 0\n",
    "SST = 0\n",
    "for i in y:\n",
    "    j = 0\n",
    "    SST += (i-y_mean)**2\n",
    "    if(j<n):\n",
    "        SSR += (y_pred[j]-y_mean)**2\n",
    "        j = j+1\n",
    "R_Squared = SSR/SST\n",
    "rmse = pow(rmse_nume/n,1/2)\n",
    "mae = mae_nume/n\n",
    "print(\"\\nRoot Mean Squared Error for the given data is \", rmse)\n",
    "print(\"\\nMean Absolute Error for the given data is \",mae)\n",
    "print(\"\\nR-Squared for the given data is \",R_Squared)\n",
    "print(\"\\nClassification Report : \")\n",
    "print(classification_report(y_test, y_pred))\n"
   ]
  },
  {
   "cell_type": "code",
   "execution_count": 23,
   "id": "ab501d5e",
   "metadata": {},
   "outputs": [],
   "source": [
    "#Q2"
   ]
  },
  {
   "cell_type": "code",
   "execution_count": 24,
   "id": "4b384882",
   "metadata": {},
   "outputs": [],
   "source": [
    "import numpy as np\n",
    "from math import sqrt\n",
    "from sklearn.datasets import load_iris\n",
    "from sklearn.metrics import confusion_matrix\n",
    "from sklearn.naive_bayes import GaussianNB\n",
    "from sklearn.model_selection import train_test_split\n",
    "from sklearn.metrics import classification_report\n",
    "from sklearn import metrics\n",
    "iris = load_iris()\n"
   ]
  },
  {
   "cell_type": "code",
   "execution_count": 29,
   "id": "fe9a618a",
   "metadata": {},
   "outputs": [
    {
     "name": "stdout",
     "output_type": "stream",
     "text": [
      "Confusion Matrix : \n",
      "[[19  0  0]\n",
      " [ 0 19  2]\n",
      " [ 0  1 19]]\n",
      "\n",
      "Gaussian Naive Bayes model accuracy(in %): 95.0\n",
      "\n",
      "Root Mean Squared Error for the given data is  2.041241452319315\n",
      "\n",
      "Mean Absolute Error for the given data is  2.5\n",
      "\n",
      "R-Squared for the given data is  1.5\n",
      "\n",
      "Classification Report : \n",
      "              precision    recall  f1-score   support\n",
      "\n",
      "           0       1.00      1.00      1.00        19\n",
      "           1       0.95      0.90      0.93        21\n",
      "           2       0.90      0.95      0.93        20\n",
      "\n",
      "    accuracy                           0.95        60\n",
      "   macro avg       0.95      0.95      0.95        60\n",
      "weighted avg       0.95      0.95      0.95        60\n",
      "\n"
     ]
    }
   ],
   "source": [
    "# store the feature matrix (X) and response vector (y)\n",
    "X = iris.data\n",
    "y = iris.target\n",
    "# splitting X and y into training and testing sets\n",
    "X_train, X_test, y_train, y_test = train_test_split(X, y, test_size=0.4, random_state=1)\n",
    "# training the model on training set\n",
    "gnb = GaussianNB()\n",
    "gnb.fit(X_train, y_train)\n",
    "# making predictions on the testing set\n",
    "y_pred = gnb.predict(X_test)\n",
    "# comparing actual response values (y_test) with predicted response values (y_pred)\n",
    "print(\"Confusion Matrix : \")\n",
    "print(confusion_matrix(y_test, y_pred))\n",
    "print(\"\\nGaussian Naive Bayes model accuracy(in %):\", metrics.accuracy_score(y_test, y_pred)*100)\n",
    "# 1. RMSE: Root Mean Squared Error\n",
    "# 2. MAE: Mean Absolute Error\n",
    "# 3. R-Squared Error\n",
    "y_mean = np.mean(y)\n",
    "rmse_nume = 0\n",
    "mae_nume = 0\n",
    "n = len(y_pred)\n",
    "for i in y:\n",
    "    j = 0\n",
    "    if(j<n):\n",
    "        rmse_nume += (i - y_pred[j])**2\n",
    "        mae_nume += abs(i - y_pred[j])\n",
    "        j = j+1\n",
    "SSR = 0\n",
    "SST = 0\n",
    "for i in y:\n",
    "    j = 0\n",
    "    SST += (i-y_mean)**2\n",
    "    if(j<n):\n",
    "        SSR += (y_pred[j]-y_mean)**2\n",
    "        j = j+1\n",
    "R_Squared = SSR/SST\n",
    "rmse = pow(rmse_nume/n,1/2)\n",
    "mae = mae_nume/n\n",
    "print(\"\\nRoot Mean Squared Error for the given data is \", rmse)\n",
    "print(\"\\nMean Absolute Error for the given data is \",mae)\n",
    "print(\"\\nR-Squared for the given data is \",R_Squared)\n",
    "print(\"\\nClassification Report : \")\n",
    "print(classification_report(y_test, y_pred))"
   ]
  }
 ],
 "metadata": {
  "kernelspec": {
   "display_name": "Python 3 (ipykernel)",
   "language": "python",
   "name": "python3"
  },
  "language_info": {
   "codemirror_mode": {
    "name": "ipython",
    "version": 3
   },
   "file_extension": ".py",
   "mimetype": "text/x-python",
   "name": "python",
   "nbconvert_exporter": "python",
   "pygments_lexer": "ipython3",
   "version": "3.10.9"
  }
 },
 "nbformat": 4,
 "nbformat_minor": 5
}
