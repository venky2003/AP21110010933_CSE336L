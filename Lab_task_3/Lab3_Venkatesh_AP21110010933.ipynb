{
 "cells": [
  {
   "cell_type": "markdown",
   "id": "f7017040",
   "metadata": {},
   "source": [
    "# Machine Learning Lab-3 - AP21110010940   "
   ]
  },
  {
   "cell_type": "markdown",
   "id": "b57a670f",
   "metadata": {},
   "source": [
    "# 1. Read the tips dataset from the provided source only. Handle the missing values with the appropriate techniques."
   ]
  },
  {
   "cell_type": "markdown",
   "id": "4d0bbbf8",
   "metadata": {},
   "source": [
    "# Handle the missing values"
   ]
  },
  {
   "cell_type": "code",
   "execution_count": 3,
   "id": "b4539c07",
   "metadata": {},
   "outputs": [],
   "source": [
    "import pandas as pd\n",
    "import numpy as np\n",
    "from sklearn.preprocessing import OneHotEncoder"
   ]
  },
  {
   "cell_type": "code",
   "execution_count": 6,
   "id": "3922d106",
   "metadata": {},
   "outputs": [],
   "source": [
    "df=pd.read_csv(r\"C:\\Users\\hp\\Machine Learning\\tips.csv\")"
   ]
  },
  {
   "cell_type": "code",
   "execution_count": 7,
   "id": "d50efbb7",
   "metadata": {},
   "outputs": [
    {
     "data": {
      "text/html": [
       "<div>\n",
       "<style scoped>\n",
       "    .dataframe tbody tr th:only-of-type {\n",
       "        vertical-align: middle;\n",
       "    }\n",
       "\n",
       "    .dataframe tbody tr th {\n",
       "        vertical-align: top;\n",
       "    }\n",
       "\n",
       "    .dataframe thead th {\n",
       "        text-align: right;\n",
       "    }\n",
       "</style>\n",
       "<table border=\"1\" class=\"dataframe\">\n",
       "  <thead>\n",
       "    <tr style=\"text-align: right;\">\n",
       "      <th></th>\n",
       "      <th>Unnamed: 0</th>\n",
       "      <th>total_bill</th>\n",
       "      <th>tip</th>\n",
       "      <th>sex</th>\n",
       "      <th>smoker</th>\n",
       "      <th>day</th>\n",
       "      <th>time</th>\n",
       "      <th>size</th>\n",
       "    </tr>\n",
       "  </thead>\n",
       "  <tbody>\n",
       "    <tr>\n",
       "      <th>0</th>\n",
       "      <td>0</td>\n",
       "      <td>16.99</td>\n",
       "      <td>1.01</td>\n",
       "      <td>Female</td>\n",
       "      <td>No</td>\n",
       "      <td>Sun</td>\n",
       "      <td>Dinner</td>\n",
       "      <td>2</td>\n",
       "    </tr>\n",
       "    <tr>\n",
       "      <th>1</th>\n",
       "      <td>1</td>\n",
       "      <td>NaN</td>\n",
       "      <td>1.66</td>\n",
       "      <td>Male</td>\n",
       "      <td>No</td>\n",
       "      <td>Sun</td>\n",
       "      <td>Dinner</td>\n",
       "      <td>3</td>\n",
       "    </tr>\n",
       "    <tr>\n",
       "      <th>2</th>\n",
       "      <td>2</td>\n",
       "      <td>21.01</td>\n",
       "      <td>3.50</td>\n",
       "      <td>Male</td>\n",
       "      <td>No</td>\n",
       "      <td>Sun</td>\n",
       "      <td>Dinner</td>\n",
       "      <td>3</td>\n",
       "    </tr>\n",
       "    <tr>\n",
       "      <th>3</th>\n",
       "      <td>3</td>\n",
       "      <td>23.68</td>\n",
       "      <td>3.31</td>\n",
       "      <td>Male</td>\n",
       "      <td>No</td>\n",
       "      <td>Sun</td>\n",
       "      <td>Dinner</td>\n",
       "      <td>2</td>\n",
       "    </tr>\n",
       "    <tr>\n",
       "      <th>4</th>\n",
       "      <td>4</td>\n",
       "      <td>24.59</td>\n",
       "      <td>3.61</td>\n",
       "      <td>Female</td>\n",
       "      <td>No</td>\n",
       "      <td>Sun</td>\n",
       "      <td>Dinner</td>\n",
       "      <td>4</td>\n",
       "    </tr>\n",
       "  </tbody>\n",
       "</table>\n",
       "</div>"
      ],
      "text/plain": [
       "   Unnamed: 0  total_bill   tip     sex smoker  day    time  size\n",
       "0           0       16.99  1.01  Female     No  Sun  Dinner     2\n",
       "1           1         NaN  1.66    Male     No  Sun  Dinner     3\n",
       "2           2       21.01  3.50    Male     No  Sun  Dinner     3\n",
       "3           3       23.68  3.31    Male     No  Sun  Dinner     2\n",
       "4           4       24.59  3.61  Female     No  Sun  Dinner     4"
      ]
     },
     "execution_count": 7,
     "metadata": {},
     "output_type": "execute_result"
    }
   ],
   "source": [
    "df.head()"
   ]
  },
  {
   "cell_type": "code",
   "execution_count": 8,
   "id": "0e89a853",
   "metadata": {},
   "outputs": [
    {
     "data": {
      "text/plain": [
       "Unnamed: 0     0\n",
       "total_bill    39\n",
       "tip            0\n",
       "sex            0\n",
       "smoker         0\n",
       "day            0\n",
       "time           0\n",
       "size           0\n",
       "dtype: int64"
      ]
     },
     "execution_count": 8,
     "metadata": {},
     "output_type": "execute_result"
    }
   ],
   "source": [
    "df.isnull().sum()"
   ]
  },
  {
   "cell_type": "code",
   "execution_count": 9,
   "id": "30206f08",
   "metadata": {},
   "outputs": [
    {
     "name": "stdout",
     "output_type": "stream",
     "text": [
      "<class 'pandas.core.frame.DataFrame'>\n",
      "RangeIndex: 244 entries, 0 to 243\n",
      "Data columns (total 8 columns):\n",
      " #   Column      Non-Null Count  Dtype  \n",
      "---  ------      --------------  -----  \n",
      " 0   Unnamed: 0  244 non-null    int64  \n",
      " 1   total_bill  205 non-null    float64\n",
      " 2   tip         244 non-null    float64\n",
      " 3   sex         244 non-null    object \n",
      " 4   smoker      244 non-null    object \n",
      " 5   day         244 non-null    object \n",
      " 6   time        244 non-null    object \n",
      " 7   size        244 non-null    int64  \n",
      "dtypes: float64(2), int64(2), object(4)\n",
      "memory usage: 15.4+ KB\n"
     ]
    }
   ],
   "source": [
    "df.info()"
   ]
  },
  {
   "cell_type": "code",
   "execution_count": 10,
   "id": "67788d10",
   "metadata": {},
   "outputs": [
    {
     "data": {
      "text/plain": [
       "Unnamed: 0     0\n",
       "total_bill    39\n",
       "tip            0\n",
       "sex            0\n",
       "smoker         0\n",
       "day            0\n",
       "time           0\n",
       "size           0\n",
       "dtype: int64"
      ]
     },
     "execution_count": 10,
     "metadata": {},
     "output_type": "execute_result"
    }
   ],
   "source": [
    "df.isna().sum()"
   ]
  },
  {
   "cell_type": "code",
   "execution_count": 11,
   "id": "0807e742",
   "metadata": {},
   "outputs": [
    {
     "data": {
      "text/plain": [
       "Unnamed: 0    0.000000\n",
       "total_bill    0.159836\n",
       "tip           0.000000\n",
       "sex           0.000000\n",
       "smoker        0.000000\n",
       "day           0.000000\n",
       "time          0.000000\n",
       "size          0.000000\n",
       "dtype: float64"
      ]
     },
     "execution_count": 11,
     "metadata": {},
     "output_type": "execute_result"
    }
   ],
   "source": [
    "df.isnull().mean()"
   ]
  },
  {
   "cell_type": "code",
   "execution_count": 12,
   "id": "f7310871",
   "metadata": {},
   "outputs": [],
   "source": [
    "def impute_nan(df, variable, method):\n",
    "    df[variable] = df[variable].fillna(method)"
   ]
  },
  {
   "cell_type": "code",
   "execution_count": 13,
   "id": "063165e6",
   "metadata": {},
   "outputs": [],
   "source": [
    "method = df.total_bill.median()"
   ]
  },
  {
   "cell_type": "code",
   "execution_count": 14,
   "id": "b9f83a55",
   "metadata": {},
   "outputs": [],
   "source": [
    "impute_nan(df,'total_bill',method)"
   ]
  },
  {
   "cell_type": "code",
   "execution_count": 15,
   "id": "d2a7cb32",
   "metadata": {},
   "outputs": [
    {
     "data": {
      "text/html": [
       "<div>\n",
       "<style scoped>\n",
       "    .dataframe tbody tr th:only-of-type {\n",
       "        vertical-align: middle;\n",
       "    }\n",
       "\n",
       "    .dataframe tbody tr th {\n",
       "        vertical-align: top;\n",
       "    }\n",
       "\n",
       "    .dataframe thead th {\n",
       "        text-align: right;\n",
       "    }\n",
       "</style>\n",
       "<table border=\"1\" class=\"dataframe\">\n",
       "  <thead>\n",
       "    <tr style=\"text-align: right;\">\n",
       "      <th></th>\n",
       "      <th>Unnamed: 0</th>\n",
       "      <th>total_bill</th>\n",
       "      <th>tip</th>\n",
       "      <th>sex</th>\n",
       "      <th>smoker</th>\n",
       "      <th>day</th>\n",
       "      <th>time</th>\n",
       "      <th>size</th>\n",
       "    </tr>\n",
       "  </thead>\n",
       "  <tbody>\n",
       "    <tr>\n",
       "      <th>0</th>\n",
       "      <td>0</td>\n",
       "      <td>16.99</td>\n",
       "      <td>1.01</td>\n",
       "      <td>Female</td>\n",
       "      <td>No</td>\n",
       "      <td>Sun</td>\n",
       "      <td>Dinner</td>\n",
       "      <td>2</td>\n",
       "    </tr>\n",
       "    <tr>\n",
       "      <th>1</th>\n",
       "      <td>1</td>\n",
       "      <td>19.44</td>\n",
       "      <td>1.66</td>\n",
       "      <td>Male</td>\n",
       "      <td>No</td>\n",
       "      <td>Sun</td>\n",
       "      <td>Dinner</td>\n",
       "      <td>3</td>\n",
       "    </tr>\n",
       "    <tr>\n",
       "      <th>2</th>\n",
       "      <td>2</td>\n",
       "      <td>21.01</td>\n",
       "      <td>3.50</td>\n",
       "      <td>Male</td>\n",
       "      <td>No</td>\n",
       "      <td>Sun</td>\n",
       "      <td>Dinner</td>\n",
       "      <td>3</td>\n",
       "    </tr>\n",
       "    <tr>\n",
       "      <th>3</th>\n",
       "      <td>3</td>\n",
       "      <td>23.68</td>\n",
       "      <td>3.31</td>\n",
       "      <td>Male</td>\n",
       "      <td>No</td>\n",
       "      <td>Sun</td>\n",
       "      <td>Dinner</td>\n",
       "      <td>2</td>\n",
       "    </tr>\n",
       "    <tr>\n",
       "      <th>4</th>\n",
       "      <td>4</td>\n",
       "      <td>24.59</td>\n",
       "      <td>3.61</td>\n",
       "      <td>Female</td>\n",
       "      <td>No</td>\n",
       "      <td>Sun</td>\n",
       "      <td>Dinner</td>\n",
       "      <td>4</td>\n",
       "    </tr>\n",
       "  </tbody>\n",
       "</table>\n",
       "</div>"
      ],
      "text/plain": [
       "   Unnamed: 0  total_bill   tip     sex smoker  day    time  size\n",
       "0           0       16.99  1.01  Female     No  Sun  Dinner     2\n",
       "1           1       19.44  1.66    Male     No  Sun  Dinner     3\n",
       "2           2       21.01  3.50    Male     No  Sun  Dinner     3\n",
       "3           3       23.68  3.31    Male     No  Sun  Dinner     2\n",
       "4           4       24.59  3.61  Female     No  Sun  Dinner     4"
      ]
     },
     "execution_count": 15,
     "metadata": {},
     "output_type": "execute_result"
    }
   ],
   "source": [
    "df.head(5)"
   ]
  },
  {
   "cell_type": "code",
   "execution_count": 18,
   "id": "cb0153bf",
   "metadata": {},
   "outputs": [
    {
     "data": {
      "text/plain": [
       "Unnamed: 0    0\n",
       "total_bill    0\n",
       "tip           0\n",
       "sex           0\n",
       "smoker        0\n",
       "day           0\n",
       "time          0\n",
       "size          0\n",
       "dtype: int64"
      ]
     },
     "execution_count": 18,
     "metadata": {},
     "output_type": "execute_result"
    }
   ],
   "source": [
    "df.isnull().sum()"
   ]
  },
  {
   "cell_type": "markdown",
   "id": "67e043ed",
   "metadata": {},
   "source": [
    "# 2)Handle the categorical data in the tips dataset with the relevant approaches such as label-encoding, one hot encoding, ordinal encoding.\n"
   ]
  },
  {
   "cell_type": "code",
   "execution_count": 19,
   "id": "51873155",
   "metadata": {},
   "outputs": [
    {
     "name": "stdout",
     "output_type": "stream",
     "text": [
      "<class 'pandas.core.frame.DataFrame'>\n",
      "RangeIndex: 244 entries, 0 to 243\n",
      "Data columns (total 8 columns):\n",
      " #   Column      Non-Null Count  Dtype  \n",
      "---  ------      --------------  -----  \n",
      " 0   Unnamed: 0  244 non-null    int64  \n",
      " 1   total_bill  244 non-null    float64\n",
      " 2   tip         244 non-null    float64\n",
      " 3   sex         244 non-null    object \n",
      " 4   smoker      244 non-null    object \n",
      " 5   day         244 non-null    object \n",
      " 6   time        244 non-null    object \n",
      " 7   size        244 non-null    int64  \n",
      "dtypes: float64(2), int64(2), object(4)\n",
      "memory usage: 15.4+ KB\n"
     ]
    }
   ],
   "source": [
    "df.info()"
   ]
  },
  {
   "cell_type": "code",
   "execution_count": 20,
   "id": "d4a79d9b",
   "metadata": {},
   "outputs": [],
   "source": [
    "ohe=OneHotEncoder()"
   ]
  },
  {
   "cell_type": "code",
   "execution_count": 21,
   "id": "be0e5be2",
   "metadata": {},
   "outputs": [
    {
     "data": {
      "text/plain": [
       "array([[1., 0., 1., ..., 0., 1., 0.],\n",
       "       [0., 1., 1., ..., 0., 1., 0.],\n",
       "       [0., 1., 1., ..., 0., 1., 0.],\n",
       "       ...,\n",
       "       [0., 1., 0., ..., 0., 1., 0.],\n",
       "       [0., 1., 1., ..., 0., 1., 0.],\n",
       "       [1., 0., 1., ..., 1., 1., 0.]])"
      ]
     },
     "execution_count": 21,
     "metadata": {},
     "output_type": "execute_result"
    }
   ],
   "source": [
    "ohe.fit_transform(df[['sex','smoker','day','time']]).toarray()"
   ]
  },
  {
   "cell_type": "markdown",
   "id": "96c1c21d",
   "metadata": {},
   "source": [
    "# 3)Perform feature scaling techniques such as min-max normalization, standardization, z-score, on the tips dataset."
   ]
  },
  {
   "cell_type": "markdown",
   "id": "a9332076",
   "metadata": {},
   "source": [
    "# Min-Max Normalization"
   ]
  },
  {
   "cell_type": "code",
   "execution_count": 22,
   "id": "8b4d627e",
   "metadata": {},
   "outputs": [],
   "source": [
    "from sklearn.preprocessing import MinMaxScaler\n",
    "mi = MinMaxScaler()"
   ]
  },
  {
   "cell_type": "code",
   "execution_count": 23,
   "id": "749e432c",
   "metadata": {},
   "outputs": [],
   "source": [
    "df_minmax = mi.fit_transform(df[['total_bill','tip']]) "
   ]
  },
  {
   "cell_type": "code",
   "execution_count": 24,
   "id": "72a07800",
   "metadata": {},
   "outputs": [],
   "source": [
    "dff=pd.DataFrame(df_minmax,columns=['total_bill','tip'])"
   ]
  },
  {
   "cell_type": "code",
   "execution_count": 25,
   "id": "30157f8e",
   "metadata": {},
   "outputs": [
    {
     "data": {
      "text/html": [
       "<div>\n",
       "<style scoped>\n",
       "    .dataframe tbody tr th:only-of-type {\n",
       "        vertical-align: middle;\n",
       "    }\n",
       "\n",
       "    .dataframe tbody tr th {\n",
       "        vertical-align: top;\n",
       "    }\n",
       "\n",
       "    .dataframe thead th {\n",
       "        text-align: right;\n",
       "    }\n",
       "</style>\n",
       "<table border=\"1\" class=\"dataframe\">\n",
       "  <thead>\n",
       "    <tr style=\"text-align: right;\">\n",
       "      <th></th>\n",
       "      <th>total_bill</th>\n",
       "      <th>tip</th>\n",
       "    </tr>\n",
       "  </thead>\n",
       "  <tbody>\n",
       "    <tr>\n",
       "      <th>112</th>\n",
       "      <td>0.733138</td>\n",
       "      <td>0.333333</td>\n",
       "    </tr>\n",
       "    <tr>\n",
       "      <th>183</th>\n",
       "      <td>0.421031</td>\n",
       "      <td>0.611111</td>\n",
       "    </tr>\n",
       "    <tr>\n",
       "      <th>10</th>\n",
       "      <td>0.342899</td>\n",
       "      <td>0.078889</td>\n",
       "    </tr>\n",
       "    <tr>\n",
       "      <th>221</th>\n",
       "      <td>0.216799</td>\n",
       "      <td>0.275556</td>\n",
       "    </tr>\n",
       "    <tr>\n",
       "      <th>178</th>\n",
       "      <td>0.136783</td>\n",
       "      <td>0.333333</td>\n",
       "    </tr>\n",
       "  </tbody>\n",
       "</table>\n",
       "</div>"
      ],
      "text/plain": [
       "     total_bill       tip\n",
       "112    0.733138  0.333333\n",
       "183    0.421031  0.611111\n",
       "10     0.342899  0.078889\n",
       "221    0.216799  0.275556\n",
       "178    0.136783  0.333333"
      ]
     },
     "execution_count": 25,
     "metadata": {},
     "output_type": "execute_result"
    }
   ],
   "source": [
    "dff.sample(5)"
   ]
  },
  {
   "cell_type": "code",
   "execution_count": 26,
   "id": "968346e9",
   "metadata": {},
   "outputs": [
    {
     "data": {
      "text/plain": [
       "(array([ 1.,  6., 10.,  0., 24., 37., 67., 23., 18., 13., 10.,  9.,  5.,\n",
       "         7.,  3.,  4.,  1.,  2.,  3.,  1.]),\n",
       " array([0.  , 0.05, 0.1 , 0.15, 0.2 , 0.25, 0.3 , 0.35, 0.4 , 0.45, 0.5 ,\n",
       "        0.55, 0.6 , 0.65, 0.7 , 0.75, 0.8 , 0.85, 0.9 , 0.95, 1.  ]),\n",
       " <BarContainer object of 20 artists>)"
      ]
     },
     "execution_count": 26,
     "metadata": {},
     "output_type": "execute_result"
    },
    {
     "data": {
      "image/png": "[encoded data removed]",
      "text/plain": [
       "<Figure size 640x480 with 1 Axes>"
      ]
     },
     "metadata": {},
     "output_type": "display_data"
    }
   ],
   "source": [
    "import matplotlib.pyplot as plt\n",
    "plt.hist(dff['total_bill'], bins = 20,color='green',edgecolor='black')"
   ]
  },
  {
   "cell_type": "markdown",
   "id": "c190b9e7",
   "metadata": {},
   "source": [
    "# Standardization"
   ]
  },
  {
   "cell_type": "code",
   "execution_count": 27,
   "id": "a6314b81",
   "metadata": {},
   "outputs": [],
   "source": [
    "from sklearn.preprocessing import StandardScaler"
   ]
  },
  {
   "cell_type": "code",
   "execution_count": 28,
   "id": "1d93f8e2",
   "metadata": {},
   "outputs": [],
   "source": [
    "s = StandardScaler()"
   ]
  },
  {
   "cell_type": "code",
   "execution_count": 29,
   "id": "15900321",
   "metadata": {},
   "outputs": [],
   "source": [
    "df_scaled = s.fit_transform(df[['total_bill','tip']])"
   ]
  },
  {
   "cell_type": "code",
   "execution_count": 30,
   "id": "fe823c9d",
   "metadata": {},
   "outputs": [
    {
     "data": {
      "text/plain": [
       "array([[-4.99243641e-01, -1.43994695e+00],\n",
       "       [-1.98219022e-01, -9.69205340e-01],\n",
       "       [-5.31753091e-03,  3.63355539e-01],\n",
       "       [ 3.22737871e-01,  2.25754144e-01],\n",
       "       [ 4.34547015e-01,  4.43019505e-01],\n",
       "       [ 5.20554049e-01,  1.23965916e+00],\n",
       "       [-1.50921196e+00, -7.22971264e-01],\n",
       "       [ 7.15912884e-01,  8.81527488e-02],\n",
       "       [-7.38834665e-01, -7.51939979e-01],\n",
       "       [-7.70780134e-01,  1.67816714e-01],\n",
       "       [-1.98219022e-01, -9.32994446e-01],\n",
       "       [ 1.74553995e+00,  1.44968234e+00],\n",
       "       [-6.92145132e-01, -1.03438495e+00],\n",
       "       [-3.22314885e-01,  1.24660453e-03],\n",
       "       [-7.64636775e-01,  1.57309619e-02],\n",
       "       [ 6.47167683e-02,  6.67527044e-01],\n",
       "       [-1.98219022e-01, -9.61963161e-01],\n",
       "       [-5.85250675e-01,  5.15441291e-01],\n",
       "       [-5.01700985e-01,  3.63355539e-01],\n",
       "       [-4.95497199e-02,  2.54722859e-01],\n",
       "       [-3.84977153e-01,  7.83401903e-01],\n",
       "       [-9.37819088e-02, -1.79807863e-01],\n",
       "       [-6.49141615e-01, -5.56401155e-01],\n",
       "       [ 2.25666747e+00,  3.31816444e+00],\n",
       "       [-1.51529489e-01,  1.31605821e-01],\n",
       "       [-3.98492544e-01, -4.76737189e-01],\n",
       "       [-9.44022874e-01, -7.22971264e-01],\n",
       "       [-1.98219022e-01, -7.22971264e-01],\n",
       "       [ 7.94608313e-02,  9.42729834e-01],\n",
       "       [-1.72416911e-01,  1.24660453e-03],\n",
       "       [-1.41337555e+00, -1.12129109e+00],\n",
       "       [-3.32144260e-01, -3.60862330e-01],\n",
       "       [-7.36377321e-01,  1.24660453e-03],\n",
       "       [-4.46350322e-02, -3.97073223e-01],\n",
       "       [-4.02178560e-01,  1.96785429e-01],\n",
       "       [ 3.69427403e-01,  4.35777326e-01],\n",
       "       [-5.82793331e-01, -7.22971264e-01],\n",
       "       [-5.06615672e-01,  5.19418554e-02],\n",
       "       [-2.90369415e-01, -4.98463725e-01],\n",
       "       [ 1.25529985e+00,  1.44968234e+00],\n",
       "       [-6.15967473e-01, -5.49158976e-01],\n",
       "       [-4.41496061e-01, -3.31893615e-01],\n",
       "       [-8.73988575e-01,  4.46996767e-02],\n",
       "       [-1.39740281e+00, -1.21543942e+00],\n",
       "       [ 1.14840540e+00,  1.88421306e+00],\n",
       "       [-3.39516292e-01,  1.24660453e-03],\n",
       "       [ 1.44580443e-01,  1.44968234e+00],\n",
       "       [ 1.39413978e+00,  2.17390021e+00],\n",
       "       [ 9.21101093e-01, -6.86760371e-01],\n",
       "       [-3.70233090e-01,  1.24660453e-03],\n",
       "       [-1.98219022e-01, -3.60862330e-01],\n",
       "       [-1.98219022e-01, -2.88440543e-01],\n",
       "       [ 1.69024971e+00,  1.59452592e+00],\n",
       "       [-1.36545734e+00, -1.04162713e+00],\n",
       "       [ 5.53728191e-01,  9.71698549e-01],\n",
       "       [-1.92075662e-01,  3.70597718e-01],\n",
       "       [ 2.08342473e+00,  1.24660453e-03],\n",
       "       [ 6.58165304e-01, -1.08508020e+00],\n",
       "       [-1.98219022e-01, -8.96783553e-01],\n",
       "       [ 3.34404211e+00,  2.70257926e+00],\n",
       "       [-9.37819088e-02,  1.53332357e-01],\n",
       "       [-8.89961310e-01, -7.22971264e-01],\n",
       "       [-1.98219022e-01, -7.37455622e-01],\n",
       "       [-3.39516292e-01,  5.51652185e-01],\n",
       "       [-4.25523326e-01, -2.59471828e-01],\n",
       "       [-1.19584019e-01,  1.09879285e-01],\n",
       "       [-5.65591924e-01, -3.82588866e-01],\n",
       "       [-2.20955495e+00, -1.44718913e+00],\n",
       "       [-1.01153940e-01, -7.15729086e-01],\n",
       "       [-7.42520680e-01, -6.57791656e-01],\n",
       "       [-1.98219022e-01, -7.44697800e-01],\n",
       "       [-4.89414266e-01,  1.24660453e-03],\n",
       "       [ 7.13455540e-01,  1.02637106e-01],\n",
       "       [ 5.19325377e-01,  1.44968234e+00],\n",
       "       [-7.76923494e-01, -5.78127691e-01],\n",
       "       [-1.98219022e-01, -1.26613467e+00],\n",
       "       [-3.84977153e-01,  5.91840340e-02],\n",
       "       [ 7.55230385e-01,  7.25464473e-01],\n",
       "       [ 2.09700054e-01,  1.24660453e-03],\n",
       "       [-4.62383484e-01, -2.08776577e-01],\n",
       "       [-1.98219022e-01,  1.24660453e-03],\n",
       "       [-5.39789814e-01,  2.90933752e-01],\n",
       "       [-1.98219022e-01, -8.46088302e-01],\n",
       "       [ 1.42854259e+00,  1.44968234e+00],\n",
       "       [-6.23339504e-01, -7.01244728e-01],\n",
       "       [ 1.69270706e+00,  1.57279938e+00],\n",
       "       [-9.85797720e-01, -7.22971264e-01],\n",
       "       [-3.40744964e-01,  7.25464473e-01],\n",
       "       [ 4.49291078e-01,  2.06526753e+00],\n",
       "       [ 1.31125478e-02,  1.24660453e-03],\n",
       "       [ 9.72705314e-01,  1.24660453e-03],\n",
       "       [ 1.76525913e-01,  3.63355539e-01],\n",
       "       [-1.88027087e+00, -1.44718913e+00],\n",
       "       [-5.81564659e-01,  9.42729834e-01],\n",
       "       [ 2.08471382e-01,  1.82301072e-01],\n",
       "       [ 2.34881786e+00,  1.25414352e+00],\n",
       "       [ 7.65059760e-01,  7.25464473e-01],\n",
       "       [-1.98219022e-01, -1.08508020e+00],\n",
       "       [-5.31753091e-03,  1.24660453e-03],\n",
       "       [-1.98219022e-01, -1.08508020e+00],\n",
       "       [-1.98219022e-01, -3.60862330e-01],\n",
       "       [-6.97059819e-01,  1.24660453e-03],\n",
       "       [ 2.85625936e+00, -3.60862330e-01],\n",
       "       [ 1.67925209e-01,  3.48871182e-01],\n",
       "       [-1.63755782e-02,  7.83401903e-01],\n",
       "       [-6.99517163e-01, -9.83689697e-01],\n",
       "       [-6.92084705e-02,  7.68917546e-01],\n",
       "       [ 5.10724674e-01,  9.35487655e-01],\n",
       "       [-3.45659652e-01,  5.51652185e-01],\n",
       "       [-8.28527714e-01,  7.25464473e-01],\n",
       "       [-8.66616544e-01,  1.24660453e-03],\n",
       "       [-1.69597009e+00, -1.44718913e+00],\n",
       "       [ 2.09079676e+00,  7.25464473e-01],\n",
       "       [ 3.55912012e-01, -3.24651436e-01],\n",
       "       [ 5.72158269e-01,  7.25464473e-01],\n",
       "       [-4.59926140e-01,  3.63355539e-01],\n",
       "       [ 1.09065782e+00,  1.50037759e+00],\n",
       "       [-1.98219022e-01, -1.08508020e+00],\n",
       "       [-1.98219022e-01, -8.67814838e-01],\n",
       "       [ 3.71884747e-01, -5.66908250e-02],\n",
       "       [-1.98219022e-01, -4.98463725e-01],\n",
       "       [-9.37879515e-01, -9.54720982e-01],\n",
       "       [-8.34671074e-01, -3.60862330e-01],\n",
       "       [-6.27025520e-01, -7.22971264e-01],\n",
       "       [-1.98219022e-01, -3.46377973e-01],\n",
       "       [ 1.07468508e+00,  8.70308047e-01],\n",
       "       [-1.53992875e+00, -1.09956456e+00],\n",
       "       [-8.02725604e-01, -7.22971264e-01],\n",
       "       [-1.98219022e-01, -7.22971264e-01],\n",
       "       [ 2.17072086e-01, -5.92612048e-01],\n",
       "       [-2.42451211e-01, -1.08508020e+00],\n",
       "       [-9.62392527e-02, -1.21870433e-01],\n",
       "       [-1.98219022e-01, -1.08508020e+00],\n",
       "       [-1.98219022e-01, -7.22971264e-01],\n",
       "       [-3.43202308e-01,  1.82301072e-01],\n",
       "       [-1.54115743e+00, -1.26613467e+00],\n",
       "       [-1.98219022e-01, -7.22971264e-01],\n",
       "       [-8.48186465e-01, -7.22971264e-01],\n",
       "       [-6.20882161e-01, -7.22971264e-01],\n",
       "       [-9.69824985e-01, -1.79807863e-01],\n",
       "       [-4.40267389e-01,  3.63355539e-01],\n",
       "       [ 1.62758744e+00,  2.68085272e+00],\n",
       "       [ 2.47414239e+00,  1.44968234e+00],\n",
       "       [ 7.36800306e-01,  1.44968234e+00],\n",
       "       [-5.68049268e-01, -5.05705904e-01],\n",
       "       [-1.56081618e+00, -1.08508020e+00],\n",
       "       [-2.96512775e-01, -1.18647070e+00],\n",
       "       [-1.98219022e-01, -9.90931876e-01],\n",
       "       [-1.38511609e+00, -9.18510089e-01],\n",
       "       [-1.66402462e+00, -7.22971264e-01],\n",
       "       [-8.58015840e-01, -3.60862330e-01],\n",
       "       [-9.73511000e-01, -7.22971264e-01],\n",
       "       [-4.66069499e-01, -1.87050041e-01],\n",
       "       [ 4.29632327e-01, -7.22971264e-01],\n",
       "       [-1.57672848e-01, -7.22971264e-01],\n",
       "       [ 1.08082844e+00,  1.55107284e+00],\n",
       "       [ 3.33175539e+00,  1.44968234e+00],\n",
       "       [ 4.84922563e-01,  5.44410006e-01],\n",
       "       [-9.41565531e-01, -2.81198364e-01],\n",
       "       [-5.60677237e-01, -7.22971264e-01],\n",
       "       [ 5.48873930e-02,  3.63355539e-01],\n",
       "       [-1.98219022e-01, -3.60862330e-01],\n",
       "       [-5.95080050e-01, -7.22971264e-01],\n",
       "       [-8.89961310e-01, -7.22971264e-01],\n",
       "       [-4.35352701e-01,  1.24660453e-03],\n",
       "       [ 4.25946311e-01,  3.48871182e-01],\n",
       "       [-3.60343288e-02, -5.49158976e-01],\n",
       "       [ 1.30936142e+00,  1.08757341e+00],\n",
       "       [-1.98219022e-01, -1.00541623e+00],\n",
       "       [-1.98219022e-01, -7.22971264e-01],\n",
       "       [ 3.65612478e+00,  5.07077169e+00],\n",
       "       [-6.44226927e-01,  1.17121464e-01],\n",
       "       [-1.69597009e+00,  1.55831502e+00],\n",
       "       [ 1.32656283e+00,  1.31605821e-01],\n",
       "       [-5.20131064e-01,  7.25464473e-01],\n",
       "       [ 1.45557338e+00,  8.09105701e-02],\n",
       "       [-3.88663169e-01, -7.22971264e-01],\n",
       "       [-8.07640292e-01, -7.22971264e-01],\n",
       "       [-1.40723219e+00,  7.25464473e-01],\n",
       "       [ 1.66813362e+00,  3.99566432e-01],\n",
       "       [ 1.67059096e+00,  4.93714755e-01],\n",
       "       [ 2.79734354e-01,  1.92042396e+00],\n",
       "       [ 2.98526991e+00,  3.63355539e-01],\n",
       "       [ 2.60075603e-01,  2.53600915e+00],\n",
       "       [ 2.39550739e+00,  1.24660453e-03],\n",
       "       [-4.46350322e-02,  1.44968234e+00],\n",
       "       [-1.88329220e-02,  3.63355539e-01],\n",
       "       [ 1.15577743e+00, -7.22971264e-01],\n",
       "       [-3.56717699e-01,  3.63355539e-01],\n",
       "       [ 2.51474899e-01,  7.25464473e-01],\n",
       "       [-6.58970990e-01, -1.08508020e+00],\n",
       "       [-1.52758161e-01,  8.63065869e-01],\n",
       "       [ 9.07585702e-01, -3.17409258e-01],\n",
       "       [-6.84773100e-01, -7.08486907e-01],\n",
       "       [-5.49619190e-01,  7.25464473e-01],\n",
       "       [-1.65788126e+00, -1.12853327e+00],\n",
       "       [-1.98219022e-01, -7.22971264e-01],\n",
       "       [ 2.71004740e+00,  1.44968234e+00],\n",
       "       [-1.98219022e-01, -7.22971264e-01],\n",
       "       [-9.26821468e-01, -7.22971264e-01],\n",
       "       [-2.87912072e-01,  7.25464473e-01],\n",
       "       [-1.98219022e-01, -7.15729086e-01],\n",
       "       [-1.98219022e-01, -7.22971264e-01],\n",
       "       [-5.71735284e-01, -3.60862330e-01],\n",
       "       [-6.42937829e-02,  7.25464473e-01],\n",
       "       [-5.63134581e-01,  1.67816714e-01],\n",
       "       [ 6.80281398e-01,  2.98175931e-01],\n",
       "       [ 2.17188910e+00,  1.24660453e-03],\n",
       "       [ 3.95229514e-01, -7.01244728e-01],\n",
       "       [-1.98219022e-01, -5.56401155e-01],\n",
       "       [ 1.10663055e+00, -7.22971264e-01],\n",
       "       [ 5.94274364e-01,  1.56555720e+00],\n",
       "       [ 3.35141414e+00,  4.34655382e+00],\n",
       "       [-9.56309594e-01, -3.60862330e-01],\n",
       "       [ 8.74411561e-01,  2.53600915e+00],\n",
       "       [-1.98219022e-01, -1.37476735e+00],\n",
       "       [ 8.71954217e-01,  1.24660453e-03],\n",
       "       [-1.98219022e-01, -1.08508020e+00],\n",
       "       [-1.63576516e+00, -1.12853327e+00],\n",
       "       [ 1.11645993e+00,  6.64262127e-02],\n",
       "       [-1.98219022e-01, -5.78127691e-01],\n",
       "       [-9.37879515e-01,  3.48871182e-01],\n",
       "       [-1.53255672e+00, -7.80908694e-01],\n",
       "       [-6.23339504e-01,  1.24660453e-03],\n",
       "       [-9.37879515e-01, -1.02714277e+00],\n",
       "       [-5.87708019e-01, -3.60862330e-01],\n",
       "       [-1.98219022e-01, -7.22971264e-01],\n",
       "       [-7.41231582e-02,  1.24660453e-03],\n",
       "       [-9.55080922e-01, -2.01534399e-01],\n",
       "       [ 1.31065052e-01, -8.56595397e-02],\n",
       "       [ 3.63284044e-01, -7.22971264e-01],\n",
       "       [-6.58970990e-01,  1.24660453e-03],\n",
       "       [-1.98219022e-01,  2.83691573e-01],\n",
       "       [-1.98219022e-01, -1.10680673e+00],\n",
       "       [-6.78629741e-01,  1.24660453e-03],\n",
       "       [-1.98219022e-01, -1.26613467e+00],\n",
       "       [-1.98219022e-01, -1.44718913e+00],\n",
       "       [ 1.44697267e+00, -1.32407210e+00],\n",
       "       [ 1.81557425e+00,  1.21069045e+00],\n",
       "       [ 9.80077345e-01,  2.11596278e+00],\n",
       "       [ 7.52773041e-01, -7.22971264e-01],\n",
       "       [ 1.98642007e-01, -7.22971264e-01],\n",
       "       [-3.97263872e-01, -9.04025732e-01],\n",
       "       [-2.79311368e-01,  1.24660453e-03]])"
      ]
     },
     "execution_count": 30,
     "metadata": {},
     "output_type": "execute_result"
    }
   ],
   "source": [
    "df_scaled"
   ]
  },
  {
   "cell_type": "markdown",
   "id": "97479c22",
   "metadata": {},
   "source": [
    "# Z-Score"
   ]
  },
  {
   "cell_type": "code",
   "execution_count": 34,
   "id": "89841eea",
   "metadata": {},
   "outputs": [],
   "source": [
    "zscore=(dff['total_bill']-dff['total_bill'].mean())/dff['total_bill'].std()"
   ]
  },
  {
   "cell_type": "code",
   "execution_count": 35,
   "id": "8a6c1d0e",
   "metadata": {},
   "outputs": [
    {
     "data": {
      "text/plain": [
       "0     -0.498220\n",
       "1     -0.197812\n",
       "2     -0.005307\n",
       "3      0.322076\n",
       "4      0.433656\n",
       "         ...   \n",
       "239    0.978067\n",
       "240    0.751229\n",
       "241    0.198235\n",
       "242   -0.396449\n",
       "243   -0.278738\n",
       "Name: total_bill, Length: 244, dtype: float64"
      ]
     },
     "execution_count": 35,
     "metadata": {},
     "output_type": "execute_result"
    }
   ],
   "source": [
    "zscore"
   ]
  },
  {
   "cell_type": "markdown",
   "id": "a5b25496",
   "metadata": {},
   "source": [
    "# 4) Create a new feature representing the average tip percentage for each dining party size."
   ]
  },
  {
   "cell_type": "code",
   "execution_count": 36,
   "id": "4a71d1e1",
   "metadata": {},
   "outputs": [
    {
     "data": {
      "text/html": [
       "<div>\n",
       "<style scoped>\n",
       "    .dataframe tbody tr th:only-of-type {\n",
       "        vertical-align: middle;\n",
       "    }\n",
       "\n",
       "    .dataframe tbody tr th {\n",
       "        vertical-align: top;\n",
       "    }\n",
       "\n",
       "    .dataframe thead th {\n",
       "        text-align: right;\n",
       "    }\n",
       "</style>\n",
       "<table border=\"1\" class=\"dataframe\">\n",
       "  <thead>\n",
       "    <tr style=\"text-align: right;\">\n",
       "      <th></th>\n",
       "      <th>Unnamed: 0</th>\n",
       "      <th>total_bill</th>\n",
       "      <th>tip</th>\n",
       "      <th>sex</th>\n",
       "      <th>smoker</th>\n",
       "      <th>day</th>\n",
       "      <th>time</th>\n",
       "      <th>size</th>\n",
       "    </tr>\n",
       "  </thead>\n",
       "  <tbody>\n",
       "    <tr>\n",
       "      <th>0</th>\n",
       "      <td>0</td>\n",
       "      <td>16.99</td>\n",
       "      <td>1.01</td>\n",
       "      <td>Female</td>\n",
       "      <td>No</td>\n",
       "      <td>Sun</td>\n",
       "      <td>Dinner</td>\n",
       "      <td>2</td>\n",
       "    </tr>\n",
       "    <tr>\n",
       "      <th>1</th>\n",
       "      <td>1</td>\n",
       "      <td>19.44</td>\n",
       "      <td>1.66</td>\n",
       "      <td>Male</td>\n",
       "      <td>No</td>\n",
       "      <td>Sun</td>\n",
       "      <td>Dinner</td>\n",
       "      <td>3</td>\n",
       "    </tr>\n",
       "    <tr>\n",
       "      <th>2</th>\n",
       "      <td>2</td>\n",
       "      <td>21.01</td>\n",
       "      <td>3.50</td>\n",
       "      <td>Male</td>\n",
       "      <td>No</td>\n",
       "      <td>Sun</td>\n",
       "      <td>Dinner</td>\n",
       "      <td>3</td>\n",
       "    </tr>\n",
       "    <tr>\n",
       "      <th>3</th>\n",
       "      <td>3</td>\n",
       "      <td>23.68</td>\n",
       "      <td>3.31</td>\n",
       "      <td>Male</td>\n",
       "      <td>No</td>\n",
       "      <td>Sun</td>\n",
       "      <td>Dinner</td>\n",
       "      <td>2</td>\n",
       "    </tr>\n",
       "    <tr>\n",
       "      <th>4</th>\n",
       "      <td>4</td>\n",
       "      <td>24.59</td>\n",
       "      <td>3.61</td>\n",
       "      <td>Female</td>\n",
       "      <td>No</td>\n",
       "      <td>Sun</td>\n",
       "      <td>Dinner</td>\n",
       "      <td>4</td>\n",
       "    </tr>\n",
       "  </tbody>\n",
       "</table>\n",
       "</div>"
      ],
      "text/plain": [
       "   Unnamed: 0  total_bill   tip     sex smoker  day    time  size\n",
       "0           0       16.99  1.01  Female     No  Sun  Dinner     2\n",
       "1           1       19.44  1.66    Male     No  Sun  Dinner     3\n",
       "2           2       21.01  3.50    Male     No  Sun  Dinner     3\n",
       "3           3       23.68  3.31    Male     No  Sun  Dinner     2\n",
       "4           4       24.59  3.61  Female     No  Sun  Dinner     4"
      ]
     },
     "execution_count": 36,
     "metadata": {},
     "output_type": "execute_result"
    }
   ],
   "source": [
    "df.head(5)"
   ]
  },
  {
   "cell_type": "code",
   "execution_count": 37,
   "id": "4d2a3756",
   "metadata": {},
   "outputs": [],
   "source": [
    "df['avg_tip_per_size'] = df.groupby('size')['tip'].transform('mean')"
   ]
  },
  {
   "cell_type": "code",
   "execution_count": 43,
   "id": "e13f59f8",
   "metadata": {
    "scrolled": true
   },
   "outputs": [
    {
     "data": {
      "text/html": [
       "<div>\n",
       "<style scoped>\n",
       "    .dataframe tbody tr th:only-of-type {\n",
       "        vertical-align: middle;\n",
       "    }\n",
       "\n",
       "    .dataframe tbody tr th {\n",
       "        vertical-align: top;\n",
       "    }\n",
       "\n",
       "    .dataframe thead th {\n",
       "        text-align: right;\n",
       "    }\n",
       "</style>\n",
       "<table border=\"1\" class=\"dataframe\">\n",
       "  <thead>\n",
       "    <tr style=\"text-align: right;\">\n",
       "      <th></th>\n",
       "      <th>Unnamed: 0</th>\n",
       "      <th>total_bill</th>\n",
       "      <th>tip</th>\n",
       "      <th>sex</th>\n",
       "      <th>smoker</th>\n",
       "      <th>day</th>\n",
       "      <th>time</th>\n",
       "      <th>size</th>\n",
       "      <th>avg_tip_per_size</th>\n",
       "      <th>bill_category</th>\n",
       "    </tr>\n",
       "  </thead>\n",
       "  <tbody>\n",
       "    <tr>\n",
       "      <th>0</th>\n",
       "      <td>0</td>\n",
       "      <td>16.99</td>\n",
       "      <td>1.01</td>\n",
       "      <td>Female</td>\n",
       "      <td>No</td>\n",
       "      <td>Sun</td>\n",
       "      <td>Dinner</td>\n",
       "      <td>2</td>\n",
       "      <td>2.582308</td>\n",
       "      <td>Normal-bills</td>\n",
       "    </tr>\n",
       "    <tr>\n",
       "      <th>1</th>\n",
       "      <td>1</td>\n",
       "      <td>19.44</td>\n",
       "      <td>1.66</td>\n",
       "      <td>Male</td>\n",
       "      <td>No</td>\n",
       "      <td>Sun</td>\n",
       "      <td>Dinner</td>\n",
       "      <td>3</td>\n",
       "      <td>3.393158</td>\n",
       "      <td>Normal-bills</td>\n",
       "    </tr>\n",
       "    <tr>\n",
       "      <th>2</th>\n",
       "      <td>2</td>\n",
       "      <td>21.01</td>\n",
       "      <td>3.50</td>\n",
       "      <td>Male</td>\n",
       "      <td>No</td>\n",
       "      <td>Sun</td>\n",
       "      <td>Dinner</td>\n",
       "      <td>3</td>\n",
       "      <td>3.393158</td>\n",
       "      <td>Highest-bills-with-tips</td>\n",
       "    </tr>\n",
       "    <tr>\n",
       "      <th>3</th>\n",
       "      <td>3</td>\n",
       "      <td>23.68</td>\n",
       "      <td>3.31</td>\n",
       "      <td>Male</td>\n",
       "      <td>No</td>\n",
       "      <td>Sun</td>\n",
       "      <td>Dinner</td>\n",
       "      <td>2</td>\n",
       "      <td>2.582308</td>\n",
       "      <td>Highest-bills-with-tips</td>\n",
       "    </tr>\n",
       "    <tr>\n",
       "      <th>4</th>\n",
       "      <td>4</td>\n",
       "      <td>24.59</td>\n",
       "      <td>3.61</td>\n",
       "      <td>Female</td>\n",
       "      <td>No</td>\n",
       "      <td>Sun</td>\n",
       "      <td>Dinner</td>\n",
       "      <td>4</td>\n",
       "      <td>4.135405</td>\n",
       "      <td>Highest-bills-with-tips</td>\n",
       "    </tr>\n",
       "  </tbody>\n",
       "</table>\n",
       "</div>"
      ],
      "text/plain": [
       "   Unnamed: 0  total_bill   tip     sex smoker  day    time  size  \\\n",
       "0           0       16.99  1.01  Female     No  Sun  Dinner     2   \n",
       "1           1       19.44  1.66    Male     No  Sun  Dinner     3   \n",
       "2           2       21.01  3.50    Male     No  Sun  Dinner     3   \n",
       "3           3       23.68  3.31    Male     No  Sun  Dinner     2   \n",
       "4           4       24.59  3.61  Female     No  Sun  Dinner     4   \n",
       "\n",
       "   avg_tip_per_size            bill_category  \n",
       "0          2.582308             Normal-bills  \n",
       "1          3.393158             Normal-bills  \n",
       "2          3.393158  Highest-bills-with-tips  \n",
       "3          2.582308  Highest-bills-with-tips  \n",
       "4          4.135405  Highest-bills-with-tips  "
      ]
     },
     "execution_count": 43,
     "metadata": {},
     "output_type": "execute_result"
    }
   ],
   "source": [
    "df.head(5)"
   ]
  },
  {
   "cell_type": "markdown",
   "id": "d95a68a6",
   "metadata": {},
   "source": [
    "# 5) Create a new feature based on total bill and tips if total bill is greater than 10(dollars) and tips is greater"
   ]
  },
  {
   "cell_type": "code",
   "execution_count": 39,
   "id": "b501e5eb",
   "metadata": {},
   "outputs": [],
   "source": [
    "def categorize_bills(total_bill, tip):\n",
    "    if total_bill > 10 and tip > 3:\n",
    "        return 'Highest-bills-with-tips'\n",
    "    else:\n",
    "        return 'Normal-bills'\n",
    "    \n",
    "df['bill_category'] = df.apply(lambda row: categorize_bills(row['total_bill'], row['tip']), axis=1)"
   ]
  },
  {
   "cell_type": "code",
   "execution_count": 40,
   "id": "b426a936",
   "metadata": {},
   "outputs": [
    {
     "data": {
      "text/html": [
       "<div>\n",
       "<style scoped>\n",
       "    .dataframe tbody tr th:only-of-type {\n",
       "        vertical-align: middle;\n",
       "    }\n",
       "\n",
       "    .dataframe tbody tr th {\n",
       "        vertical-align: top;\n",
       "    }\n",
       "\n",
       "    .dataframe thead th {\n",
       "        text-align: right;\n",
       "    }\n",
       "</style>\n",
       "<table border=\"1\" class=\"dataframe\">\n",
       "  <thead>\n",
       "    <tr style=\"text-align: right;\">\n",
       "      <th></th>\n",
       "      <th>Unnamed: 0</th>\n",
       "      <th>total_bill</th>\n",
       "      <th>tip</th>\n",
       "      <th>sex</th>\n",
       "      <th>smoker</th>\n",
       "      <th>day</th>\n",
       "      <th>time</th>\n",
       "      <th>size</th>\n",
       "      <th>avg_tip_per_size</th>\n",
       "      <th>bill_category</th>\n",
       "    </tr>\n",
       "  </thead>\n",
       "  <tbody>\n",
       "    <tr>\n",
       "      <th>0</th>\n",
       "      <td>0</td>\n",
       "      <td>16.99</td>\n",
       "      <td>1.01</td>\n",
       "      <td>Female</td>\n",
       "      <td>No</td>\n",
       "      <td>Sun</td>\n",
       "      <td>Dinner</td>\n",
       "      <td>2</td>\n",
       "      <td>2.582308</td>\n",
       "      <td>Normal-bills</td>\n",
       "    </tr>\n",
       "    <tr>\n",
       "      <th>1</th>\n",
       "      <td>1</td>\n",
       "      <td>19.44</td>\n",
       "      <td>1.66</td>\n",
       "      <td>Male</td>\n",
       "      <td>No</td>\n",
       "      <td>Sun</td>\n",
       "      <td>Dinner</td>\n",
       "      <td>3</td>\n",
       "      <td>3.393158</td>\n",
       "      <td>Normal-bills</td>\n",
       "    </tr>\n",
       "    <tr>\n",
       "      <th>2</th>\n",
       "      <td>2</td>\n",
       "      <td>21.01</td>\n",
       "      <td>3.50</td>\n",
       "      <td>Male</td>\n",
       "      <td>No</td>\n",
       "      <td>Sun</td>\n",
       "      <td>Dinner</td>\n",
       "      <td>3</td>\n",
       "      <td>3.393158</td>\n",
       "      <td>Highest-bills-with-tips</td>\n",
       "    </tr>\n",
       "    <tr>\n",
       "      <th>3</th>\n",
       "      <td>3</td>\n",
       "      <td>23.68</td>\n",
       "      <td>3.31</td>\n",
       "      <td>Male</td>\n",
       "      <td>No</td>\n",
       "      <td>Sun</td>\n",
       "      <td>Dinner</td>\n",
       "      <td>2</td>\n",
       "      <td>2.582308</td>\n",
       "      <td>Highest-bills-with-tips</td>\n",
       "    </tr>\n",
       "    <tr>\n",
       "      <th>4</th>\n",
       "      <td>4</td>\n",
       "      <td>24.59</td>\n",
       "      <td>3.61</td>\n",
       "      <td>Female</td>\n",
       "      <td>No</td>\n",
       "      <td>Sun</td>\n",
       "      <td>Dinner</td>\n",
       "      <td>4</td>\n",
       "      <td>4.135405</td>\n",
       "      <td>Highest-bills-with-tips</td>\n",
       "    </tr>\n",
       "  </tbody>\n",
       "</table>\n",
       "</div>"
      ],
      "text/plain": [
       "   Unnamed: 0  total_bill   tip     sex smoker  day    time  size  \\\n",
       "0           0       16.99  1.01  Female     No  Sun  Dinner     2   \n",
       "1           1       19.44  1.66    Male     No  Sun  Dinner     3   \n",
       "2           2       21.01  3.50    Male     No  Sun  Dinner     3   \n",
       "3           3       23.68  3.31    Male     No  Sun  Dinner     2   \n",
       "4           4       24.59  3.61  Female     No  Sun  Dinner     4   \n",
       "\n",
       "   avg_tip_per_size            bill_category  \n",
       "0          2.582308             Normal-bills  \n",
       "1          3.393158             Normal-bills  \n",
       "2          3.393158  Highest-bills-with-tips  \n",
       "3          2.582308  Highest-bills-with-tips  \n",
       "4          4.135405  Highest-bills-with-tips  "
      ]
     },
     "execution_count": 40,
     "metadata": {},
     "output_type": "execute_result"
    }
   ],
   "source": [
    "df.head(5)"
   ]
  }
 ],
 "metadata": {
  "kernelspec": {
   "display_name": "Python 3 (ipykernel)",
   "language": "python",
   "name": "python3"
  },
  "language_info": {
   "codemirror_mode": {
    "name": "ipython",
    "version": 3
   },
   "file_extension": ".py",
   "mimetype": "text/x-python",
   "name": "python",
   "nbconvert_exporter": "python",
   "pygments_lexer": "ipython3",
   "version": "3.11.5"
  }
 },
 "nbformat": 4,
 "nbformat_minor": 5
}
