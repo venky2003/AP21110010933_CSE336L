{
 "cells": [
  {
   "cell_type": "code",
   "execution_count": 1,
   "id": "e4fd9a6c",
   "metadata": {},
   "outputs": [],
   "source": [
    "import numpy as np\n",
    "import math as math\n",
    "import pandas as pd"
   ]
  },
  {
   "cell_type": "code",
   "execution_count": 2,
   "id": "b0468b60",
   "metadata": {},
   "outputs": [],
   "source": [
    "#Q1\n",
    "arr=np.array([2,3,5,3,2,1,4,5,6,7])"
   ]
  },
  {
   "cell_type": "code",
   "execution_count": 3,
   "id": "0c5665eb",
   "metadata": {},
   "outputs": [
    {
     "data": {
      "text/plain": [
       "array([2, 3, 5, 3, 2, 1, 4, 5, 6, 7])"
      ]
     },
     "execution_count": 3,
     "metadata": {},
     "output_type": "execute_result"
    }
   ],
   "source": [
    "arr\n"
   ]
  },
  {
   "cell_type": "code",
   "execution_count": 4,
   "id": "04afb861",
   "metadata": {},
   "outputs": [],
   "source": [
    "def mean(arr,s):\n",
    "    for e in arr:\n",
    "        s+=e\n",
    "    return s/len(arr)\n",
    "    "
   ]
  },
  {
   "cell_type": "code",
   "execution_count": 5,
   "id": "b984d4b0",
   "metadata": {},
   "outputs": [],
   "source": [
    "x_mean=mean(arr,0)"
   ]
  },
  {
   "cell_type": "code",
   "execution_count": 6,
   "id": "2fd1568e",
   "metadata": {},
   "outputs": [
    {
     "data": {
      "text/plain": [
       "3.8"
      ]
     },
     "execution_count": 6,
     "metadata": {},
     "output_type": "execute_result"
    }
   ],
   "source": [
    "x_mean\n"
   ]
  },
  {
   "cell_type": "code",
   "execution_count": 7,
   "id": "e72e0728",
   "metadata": {},
   "outputs": [],
   "source": [
    "\n",
    "def var(arr,mean,s):\n",
    "    for e in arr :\n",
    "        s+=(e-mean)**2\n",
    "    \n",
    "    \n",
    "    return s/(len(arr)-1)\n",
    "    "
   ]
  },
  {
   "cell_type": "code",
   "execution_count": 8,
   "id": "33264dae",
   "metadata": {},
   "outputs": [
    {
     "name": "stdout",
     "output_type": "stream",
     "text": [
      "3.7333333333333334\n"
     ]
    }
   ],
   "source": [
    "print(var(arr,x_mean,0))"
   ]
  },
  {
   "cell_type": "code",
   "execution_count": 9,
   "id": "ea6031cb",
   "metadata": {},
   "outputs": [
    {
     "data": {
      "text/plain": [
       "3.3599999999999994"
      ]
     },
     "execution_count": 9,
     "metadata": {},
     "output_type": "execute_result"
    }
   ],
   "source": [
    "r2=np.var(arr)\n",
    "r2"
   ]
  },
  {
   "cell_type": "code",
   "execution_count": 10,
   "id": "9fe1663e",
   "metadata": {},
   "outputs": [],
   "source": [
    "#Q2\n",
    "arr1=np.array([4,5,2,2,3,4,6,7])"
   ]
  },
  {
   "cell_type": "code",
   "execution_count": 11,
   "id": "581b925e",
   "metadata": {},
   "outputs": [],
   "source": [
    "arr2=np.array([2,3,4,3,7,9,5,4])"
   ]
  },
  {
   "cell_type": "code",
   "execution_count": 12,
   "id": "5618e545",
   "metadata": {},
   "outputs": [],
   "source": [
    "arr1_mean=mean(arr1,0)"
   ]
  },
  {
   "cell_type": "code",
   "execution_count": 13,
   "id": "daf53546",
   "metadata": {},
   "outputs": [],
   "source": [
    "arr2_mean=mean(arr2,0)"
   ]
  },
  {
   "cell_type": "code",
   "execution_count": null,
   "id": "23942624",
   "metadata": {},
   "outputs": [],
   "source": [
    "\n"
   ]
  },
  {
   "cell_type": "code",
   "execution_count": 14,
   "id": "a70b25e7",
   "metadata": {},
   "outputs": [],
   "source": [
    "def covar(arr1,arr2,summ,arr1_mean,arr2_mean):\n",
    "    n=len(arr1)\n",
    "    for i in range (n):\n",
    "        summ+= (arr1[i]-arr1_mean)*(arr2[i]-arr2_mean)\n",
    "    \n",
    "    return summ/(n-1)"
   ]
  },
  {
   "cell_type": "code",
   "execution_count": 15,
   "id": "0d6bc846",
   "metadata": {},
   "outputs": [
    {
     "data": {
      "text/plain": [
       "-0.08928571428571429"
      ]
     },
     "execution_count": 15,
     "metadata": {},
     "output_type": "execute_result"
    }
   ],
   "source": [
    "covar(arr1,arr2,0,arr1_mean,arr2_mean)"
   ]
  },
  {
   "cell_type": "code",
   "execution_count": 16,
   "id": "1d17717b",
   "metadata": {},
   "outputs": [],
   "source": [
    "#Q3\n",
    "def correlation(arr1,arr2,summ,arr1_mean,arr2_mean):\n",
    "    coVar=covar(arr1,arr2,0,arr1_mean,arr2_mean)\n",
    "    varX=var(arr1,arr1_mean,0)\n",
    "    varY=var(arr2,arr2_mean,0)\n",
    "    denumerator=math.sqrt(varX*varY)\n",
    "    return coVar/denumerator\n"
   ]
  },
  {
   "cell_type": "code",
   "execution_count": 17,
   "id": "4c0ca129",
   "metadata": {},
   "outputs": [
    {
     "data": {
      "text/plain": [
       "-0.021233576208613762"
      ]
     },
     "execution_count": 17,
     "metadata": {},
     "output_type": "execute_result"
    }
   ],
   "source": [
    "correlation(arr1,arr2,0,arr1_mean,arr2_mean)"
   ]
  },
  {
   "cell_type": "code",
   "execution_count": 18,
   "id": "8d6e9bd5",
   "metadata": {},
   "outputs": [],
   "source": [
    "#Q4\n",
    "newarr=np.array([[1,2,3,4,3,3,2],[1,2,4,2,5,2,4]])"
   ]
  },
  {
   "cell_type": "code",
   "execution_count": 19,
   "id": "5807206a",
   "metadata": {},
   "outputs": [],
   "source": [
    "mean1=mean(newarr[0],0)"
   ]
  },
  {
   "cell_type": "code",
   "execution_count": 20,
   "id": "ce25d39b",
   "metadata": {},
   "outputs": [
    {
     "data": {
      "text/plain": [
       "2.5714285714285716"
      ]
     },
     "execution_count": 20,
     "metadata": {},
     "output_type": "execute_result"
    }
   ],
   "source": [
    "mean1"
   ]
  },
  {
   "cell_type": "code",
   "execution_count": 21,
   "id": "c2c45dc2",
   "metadata": {},
   "outputs": [],
   "source": [
    "mean2=mean(newarr[1],0)"
   ]
  },
  {
   "cell_type": "code",
   "execution_count": 22,
   "id": "cc94cbd5",
   "metadata": {},
   "outputs": [
    {
     "data": {
      "text/plain": [
       "2.857142857142857"
      ]
     },
     "execution_count": 22,
     "metadata": {},
     "output_type": "execute_result"
    }
   ],
   "source": [
    "mean2"
   ]
  },
  {
   "cell_type": "code",
   "execution_count": 23,
   "id": "4d8fbe8c",
   "metadata": {},
   "outputs": [],
   "source": [
    "var1=var(newarr[0],mean1,0)"
   ]
  },
  {
   "cell_type": "code",
   "execution_count": 24,
   "id": "ed41f1ab",
   "metadata": {},
   "outputs": [
    {
     "data": {
      "text/plain": [
       "0.9523809523809526"
      ]
     },
     "execution_count": 24,
     "metadata": {},
     "output_type": "execute_result"
    }
   ],
   "source": [
    "var1"
   ]
  },
  {
   "cell_type": "code",
   "execution_count": 25,
   "id": "17e94b66",
   "metadata": {},
   "outputs": [],
   "source": [
    "var2=var(newarr[1],mean2,0)"
   ]
  },
  {
   "cell_type": "code",
   "execution_count": 26,
   "id": "1ce7ccba",
   "metadata": {},
   "outputs": [
    {
     "data": {
      "text/plain": [
       "2.142857142857143"
      ]
     },
     "execution_count": 26,
     "metadata": {},
     "output_type": "execute_result"
    }
   ],
   "source": [
    "var2"
   ]
  },
  {
   "cell_type": "code",
   "execution_count": 27,
   "id": "4f00d851",
   "metadata": {},
   "outputs": [
    {
     "data": {
      "text/plain": [
       "0.42857142857142844"
      ]
     },
     "execution_count": 27,
     "metadata": {},
     "output_type": "execute_result"
    }
   ],
   "source": [
    "covar(newarr[0],newarr[1],0,mean1,mean2)"
   ]
  },
  {
   "cell_type": "code",
   "execution_count": 28,
   "id": "b79e5eec",
   "metadata": {
    "scrolled": true
   },
   "outputs": [
    {
     "data": {
      "text/plain": [
       "0.2999999999999999"
      ]
     },
     "execution_count": 28,
     "metadata": {},
     "output_type": "execute_result"
    }
   ],
   "source": [
    "correlation(newarr[0],newarr[1],0,mean1,mean2)"
   ]
  },
  {
   "cell_type": "code",
   "execution_count": 29,
   "id": "c40385f8",
   "metadata": {},
   "outputs": [],
   "source": [
    "covarMatrix=np.cov(newarr[0],newarr[1])"
   ]
  },
  {
   "cell_type": "code",
   "execution_count": 30,
   "id": "9ff7af0f",
   "metadata": {},
   "outputs": [
    {
     "data": {
      "text/plain": [
       "array([[0.95238095, 0.42857143],\n",
       "       [0.42857143, 2.14285714]])"
      ]
     },
     "execution_count": 30,
     "metadata": {},
     "output_type": "execute_result"
    }
   ],
   "source": [
    "covarMatrix\n"
   ]
  },
  {
   "cell_type": "code",
   "execution_count": 31,
   "id": "bb82f3e0",
   "metadata": {},
   "outputs": [
    {
     "data": {
      "text/plain": [
       "0.9523809523809526"
      ]
     },
     "execution_count": 31,
     "metadata": {},
     "output_type": "execute_result"
    }
   ],
   "source": [
    "var(newarr[0],mean1,0)"
   ]
  },
  {
   "cell_type": "code",
   "execution_count": 32,
   "id": "35edf778",
   "metadata": {},
   "outputs": [],
   "source": [
    "corrMatrix=np.corrcoef(newarr[0],newarr[1])"
   ]
  },
  {
   "cell_type": "code",
   "execution_count": 33,
   "id": "2a59689a",
   "metadata": {},
   "outputs": [
    {
     "data": {
      "text/plain": [
       "array([[1. , 0.3],\n",
       "       [0.3, 1. ]])"
      ]
     },
     "execution_count": 33,
     "metadata": {},
     "output_type": "execute_result"
    }
   ],
   "source": [
    "corrMatrix\n"
   ]
  },
  {
   "cell_type": "code",
   "execution_count": null,
   "id": "3dc25ed5",
   "metadata": {},
   "outputs": [],
   "source": []
  }
 ],
 "metadata": {
  "kernelspec": {
   "display_name": "Python 3 (ipykernel)",
   "language": "python",
   "name": "python3"
  },
  "language_info": {
   "codemirror_mode": {
    "name": "ipython",
    "version": 3
   },
   "file_extension": ".py",
   "mimetype": "text/x-python",
   "name": "python",
   "nbconvert_exporter": "python",
   "pygments_lexer": "ipython3",
   "version": "3.10.9"
  }
 },
 "nbformat": 4,
 "nbformat_minor": 5
}
