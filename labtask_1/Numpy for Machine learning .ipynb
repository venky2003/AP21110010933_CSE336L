{
 "cells": [
  {
   "cell_type": "code",
   "execution_count": 2,
   "id": "1a223db8",
   "metadata": {},
   "outputs": [],
   "source": [
    "import numpy as np\n"
   ]
  },
  {
   "cell_type": "code",
   "execution_count": 3,
   "id": "87120ce5",
   "metadata": {},
   "outputs": [],
   "source": [
    "#Q1 Write a NumPy program to multiply two given arrays of same size element-by-element."
   ]
  },
  {
   "cell_type": "code",
   "execution_count": 4,
   "id": "398d823b",
   "metadata": {},
   "outputs": [
    {
     "name": "stdout",
     "output_type": "stream",
     "text": [
      "4\n",
      "10\n",
      "18\n",
      "<class 'list'>\n",
      "[ 4 10 18]\n",
      "<class 'numpy.ndarray'>\n"
     ]
    }
   ],
   "source": [
    "arr1=np.array([1,2,3])\n",
    "arr2=np.array([4,5,6])\n",
    "\n",
    "arr3=[]\n",
    "for i in range(len(arr1)):\n",
    "    print(arr1[i]*arr2[i])\n",
    "    arr3.append(arr1[i]*arr2[i])\n",
    "    \n",
    "print(type(arr3))\n",
    "\n",
    "arr4=np.array(arr3)\n",
    "print(arr4)\n",
    "print(type(arr4))"
   ]
  },
  {
   "cell_type": "code",
   "execution_count": 5,
   "id": "c87bcea5",
   "metadata": {},
   "outputs": [],
   "source": [
    "#Q2 Write a NumPy program to find the missing data in a given array.\n"
   ]
  },
  {
   "cell_type": "code",
   "execution_count": 6,
   "id": "711c0687",
   "metadata": {},
   "outputs": [
    {
     "name": "stdout",
     "output_type": "stream",
     "text": [
      " array with missing values:\n",
      "[[  3. 332.  nan   1.]\n",
      " [810. 712.  nan   9.]]\n",
      "array:\n",
      "[[False False  True False]\n",
      " [False False  True False]]\n"
     ]
    },
    {
     "data": {
      "text/plain": [
       "' isnall or isnull returns a bolean values where missing values\\npresent return true else False'"
      ]
     },
     "execution_count": 6,
     "metadata": {},
     "output_type": "execute_result"
    }
   ],
   "source": [
    "# Creating a NumPy array with \"nan\" i.e not a number\n",
    "nums = np.array([[3, 332, np.nan, 1],\n",
    "                 [810, 712,np.nan, 9]])\n",
    "print(\" array with missing values:\")\n",
    "print(nums)\n",
    "print(\"array:\")\n",
    "print(np.isnan(nums))\n",
    "\n",
    "\"\"\" isnall or isnull returns a bolean values where missing values\n",
    "present return true else False\"\"\""
   ]
  },
  {
   "cell_type": "code",
   "execution_count": 7,
   "id": "367845d7",
   "metadata": {},
   "outputs": [],
   "source": [
    "#Q3 Write a NumPy program to test whether each element of a 1-D array is also present in a second array."
   ]
  },
  {
   "cell_type": "code",
   "execution_count": 8,
   "id": "300d630d",
   "metadata": {},
   "outputs": [
    {
     "name": "stdout",
     "output_type": "stream",
     "text": [
      "<class 'numpy.ndarray'>\n",
      "<class 'numpy.ndarray'>\n",
      "[ True  True  True False]\n"
     ]
    }
   ],
   "source": [
    "arr1= np.array([1,22,44,20])\n",
    "\n",
    "arr2=np.array([[1,22,44,22]])\n",
    "\n",
    "print(type(arr1))\n",
    "print(type(arr2))\n",
    "\n",
    "arr4=np.isin(arr1, arr2)\n",
    "print(arr4)\n",
    "\n",
    "#isin() is used to check whether a given element of one array present in second array\n",
    "# returns true if present else false"
   ]
  },
  {
   "cell_type": "code",
   "execution_count": 13,
   "id": "1ea79754",
   "metadata": {},
   "outputs": [],
   "source": [
    "#Q4 Save an array to txt file "
   ]
  },
  {
   "cell_type": "code",
   "execution_count": 14,
   "id": "67bff44b",
   "metadata": {},
   "outputs": [],
   "source": [
    "arr1=[1,2,34,44,33]\n",
    "arr2=np.array(arr1)\n",
    "\n",
    "arr3=np.savetxt(\"np.txt\",arr2)\n"
   ]
  },
  {
   "cell_type": "code",
   "execution_count": 11,
   "id": "6284a267",
   "metadata": {},
   "outputs": [],
   "source": [
    "#Q5 Write a NumPy program to Create a 1-D array of 30 evenly spaced elements between 2.5. and 6.5, inclusive"
   ]
  },
  {
   "cell_type": "code",
   "execution_count": 12,
   "id": "2d1d43c2",
   "metadata": {},
   "outputs": [
    {
     "name": "stdout",
     "output_type": "stream",
     "text": [
      "[ 0.   2.5  5.   7.5 10.  12.5 15.  17.5 20.  22.5 25.  27.5]\n",
      "<class 'numpy.ndarray'>\n",
      "[ 0.   6.5 13.  19.5 26. ]\n",
      "<class 'numpy.ndarray'>\n"
     ]
    }
   ],
   "source": [
    "#arange function is similar to range function\n",
    "arr4=np.arange(0,30,2.5)\n",
    "print(arr4)\n",
    "print(type(arr4))\n",
    "\n",
    "arr5=np.arange(0,30,6.5)\n",
    "print(arr5)\n",
    "print(type(arr5))"
   ]
  },
  {
   "cell_type": "code",
   "execution_count": null,
   "id": "adfc7104",
   "metadata": {},
   "outputs": [],
   "source": []
  }
 ],
 "metadata": {
  "kernelspec": {
   "display_name": "Python 3 (ipykernel)",
   "language": "python",
   "name": "python3"
  },
  "language_info": {
   "codemirror_mode": {
    "name": "ipython",
    "version": 3
   },
   "file_extension": ".py",
   "mimetype": "text/x-python",
   "name": "python",
   "nbconvert_exporter": "python",
   "pygments_lexer": "ipython3",
   "version": "3.10.9"
  }
 },
 "nbformat": 4,
 "nbformat_minor": 5
}
