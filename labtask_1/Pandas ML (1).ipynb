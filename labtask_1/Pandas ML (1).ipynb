{
 "cells": [
  {
   "cell_type": "code",
   "execution_count": 2,
   "id": "b75286ff",
   "metadata": {},
   "outputs": [],
   "source": [
    "import pandas as pd \n",
    "import numpy as np"
   ]
  },
  {
   "cell_type": "code",
   "execution_count": 36,
   "id": "42187600",
   "metadata": {},
   "outputs": [
    {
     "name": "stdout",
     "output_type": "stream",
     "text": [
      "[1, 2, 3, 4, 5, 6, 7, 8, 9]\n",
      "original: 0    [1, 2, 3]\n",
      "1    [4, 5, 6]\n",
      "2    [7, 8, 9]\n",
      "dtype: object\n",
      "after: 0    1\n",
      "1    2\n",
      "2    3\n",
      "3    4\n",
      "4    5\n",
      "5    6\n",
      "6    7\n",
      "7    8\n",
      "8    9\n",
      "dtype: int64\n"
     ]
    }
   ],
   "source": [
    "a=([[1,2,3],[4,5,6],[7,8,9]])\n",
    "a=pd.Series(a)\n",
    "c=[item for sublist in a  for item in sublist]\n",
    "print(c)\n",
    "b=pd.Series(c)\n",
    "print(\"original:\",a)\n",
    "print(\"after:\",b)\n"
   ]
  },
  {
   "cell_type": "code",
   "execution_count": 37,
   "id": "b454e37f",
   "metadata": {},
   "outputs": [
    {
     "name": "stdout",
     "output_type": "stream",
     "text": [
      "0    100\n",
      "1    200\n",
      "2    300\n",
      "3    400\n",
      "4    500\n",
      "dtype: int64\n",
      "2    300\n",
      "3    400\n",
      "4    500\n",
      "dtype: int64\n",
      "0    100\n",
      "1    200\n",
      "dtype: int64\n"
     ]
    }
   ],
   "source": [
    "a=([100,200,300,400,500])\n",
    "a=pd.Series(a)\n",
    "print(a)\n",
    "subset=a[a>=300]\n",
    "subset2=a[a<=200]\n",
    "print(subset)\n",
    "print(subset2)"
   ]
  },
  {
   "cell_type": "code",
   "execution_count": 23,
   "id": "1cfb9d74",
   "metadata": {},
   "outputs": [
    {
     "name": "stdout",
     "output_type": "stream",
     "text": [
      "after replacing:  0    other\n",
      "1    other\n",
      "2    other\n",
      "3        3\n",
      "4        3\n",
      "5        3\n",
      "6    other\n",
      "7    other\n",
      "dtype: object\n"
     ]
    }
   ],
   "source": [
    "a=([1,1,2,3,3,3,4,4])\n",
    "a=pd.Series(a)\n",
    "a.value_counts()\n",
    "a[~a.isin(a.value_counts(). index[   :1])]='other'\n",
    "print(\"after replacing: \",a)"
   ]
  },
  {
   "cell_type": "code",
   "execution_count": 24,
   "id": "75582629",
   "metadata": {},
   "outputs": [
    {
     "name": "stdout",
     "output_type": "stream",
     "text": [
      "2     5\n",
      "3    10\n",
      "4    15\n",
      "dtype: int64\n"
     ]
    }
   ],
   "source": [
    "a=[1,2,5,10,15,18,36]\n",
    "a=pd.Series(a)\n",
    "subset=a[a%5==0]\n",
    "print(subset)"
   ]
  },
  {
   "cell_type": "code",
   "execution_count": 3,
   "id": "5de59660",
   "metadata": {},
   "outputs": [
    {
     "name": "stdout",
     "output_type": "stream",
     "text": [
      "0    9\n",
      "1    3\n",
      "2    4\n",
      "dtype: int64\n"
     ]
    }
   ],
   "source": [
    "a=['venkatesh','sai','arun']\n",
    "a=pd.Series(a)\n",
    "subset=a.apply(lambda i : len(i))\n",
    "print(subset)"
   ]
  },
  {
   "cell_type": "code",
   "execution_count": 47,
   "id": "b617fd48",
   "metadata": {},
   "outputs": [
    {
     "name": "stdout",
     "output_type": "stream",
     "text": [
      "  year_month       Date\n",
      "0    2013-01 2013-01-20\n",
      "1    2023-04 2023-04-20\n",
      "2    2023-12 2023-12-20\n"
     ]
    }
   ],
   "source": [
    "a={'year_month':['2013-01','2023-04','2023-12']}\n",
    "a=pd.DataFrame(a)\n",
    "date=20\n",
    "a['Date']=pd.to_datetime(a['year_month'] + '-' + str(date), format='%Y-%m-%d')\n",
    "print(a)"
   ]
  },
  {
   "cell_type": "code",
   "execution_count": 57,
   "id": "5ab89c90",
   "metadata": {},
   "outputs": [
    {
     "name": "stdout",
     "output_type": "stream",
     "text": [
      "          Name  Age College\n",
      "Person1  venky   25     srm\n",
      "Person2   arun   30     vit\n",
      "Person3    sai   45     srm\n"
     ]
    }
   ],
   "source": [
    "a={'Name':['venky','arun','sai'],\n",
    "  'Age':[25,30,45],\n",
    "  'College':['srm','vit','srm']}\n",
    "ilabels = ['Person1', 'Person2', 'Person3']\n",
    "df11 = pd.DataFrame(a, index=ilabels)\n",
    "print(df11)"
   ]
  },
  {
   "cell_type": "code",
   "execution_count": 61,
   "id": "a98a0eac",
   "metadata": {},
   "outputs": [
    {
     "name": "stdout",
     "output_type": "stream",
     "text": [
      "    Name  Attempt\n",
      "0  venky        2\n",
      "1   arun        3\n",
      "2    sai        4\n"
     ]
    }
   ],
   "source": [
    "a={'Name':['venky','arun','sai'],\n",
    "  'Attempt':[2,3,4],\n",
    "  }\n",
    "a=pd.DataFrame(a)\n",
    "print(a[a['Attempt']>=2])"
   ]
  },
  {
   "cell_type": "code",
   "execution_count": 69,
   "id": "27b44756",
   "metadata": {},
   "outputs": [
    {
     "name": "stdout",
     "output_type": "stream",
     "text": [
      "            Name section\n",
      "Student1     sai       o\n",
      "Student2   venky       e\n",
      "Student3    Arun       c\n",
      "Student4   ameen       f\n",
      "Student5  lohith       j\n",
      "            Name section\n",
      "Student1     sai       o\n",
      "Student2   venky       e\n",
      "Student3    Arun       c\n",
      "Student5  lohith       j\n"
     ]
    },
    {
     "name": "stderr",
     "output_type": "stream",
     "text": [
      "C:\\Users\\venka\\AppData\\Local\\Temp\\ipykernel_40640\\3511622195.py:12: FutureWarning: The frame.append method is deprecated and will be removed from pandas in a future version. Use pandas.concat instead.\n",
      "  a=a.append(c)\n"
     ]
    }
   ],
   "source": [
    "a={\n",
    "    'Name':['sai','venky','Arun'],\n",
    "    'section':['o','e','c']\n",
    "}\n",
    "index_labels = ['Student1', 'Student2','Student3']\n",
    "a=pd.DataFrame(a,index=index_labels)\n",
    "b = {\n",
    "  \"Name\": ['ameen','lohith'],\n",
    "  \"section\": ['f', 'j']\n",
    "}\n",
    "c=pd.DataFrame(b,index=['Student4','Student5'])\n",
    "a=a.append(c)\n",
    "print(a)\n",
    "\n",
    "a=a.drop('Student4')\n",
    "a.drop('Student5')\n",
    "print(a)\n"
   ]
  },
  {
   "cell_type": "code",
   "execution_count": 72,
   "id": "622ce165",
   "metadata": {},
   "outputs": [
    {
     "name": "stdout",
     "output_type": "stream",
     "text": [
      "    name  score\n",
      "1    sai     22\n",
      "0  venky     23\n",
      "2   arun     24\n",
      "    name  score\n",
      "0  venky     23\n",
      "1    sai     22\n",
      "2   arun     24\n"
     ]
    }
   ],
   "source": [
    "a={\n",
    "    'name':['venky','sai','arun'],\n",
    "    'score': [23,22,24]\n",
    "}\n",
    "a=pd.DataFrame(a)\n",
    "b = a.sort_values(by='score',ascending=True)\n",
    "print(b)\n",
    "c=a.sort_values(by='name',ascending=False)\n",
    "print(c)"
   ]
  },
  {
   "cell_type": "code",
   "execution_count": 74,
   "id": "a3475c0b",
   "metadata": {},
   "outputs": [
    {
     "name": "stdout",
     "output_type": "stream",
     "text": [
      "  candidate qualify\n",
      "0     venky    True\n",
      "1      arun      No\n",
      "2       sai      No\n",
      "  candidate  qualify\n",
      "0     venky     True\n",
      "1      arun    False\n",
      "2       sai    False\n"
     ]
    }
   ],
   "source": [
    "a={\n",
    "    'candidate':['venky','arun','sai'],\n",
    "    'qualify':['Yes','No','No']\n",
    "}\n",
    "a=pd.DataFrame(a)\n",
    "a=a.replace('Yes',True)\n",
    "print(a)\n",
    "a=a.replace('No',False)\n",
    "print(a)\n",
    "\n"
   ]
  },
  {
   "cell_type": "code",
   "execution_count": 75,
   "id": "61150957",
   "metadata": {},
   "outputs": [
    {
     "name": "stdout",
     "output_type": "stream",
     "text": [
      "DataFrame after removing infinite values:\n",
      "    C1   C2  C3\n",
      "1  2.0  2.0   2\n",
      "2  3.0  3.0   3\n",
      "4  5.0  5.0   5\n"
     ]
    }
   ],
   "source": [
    "a = {'C1': [1, 2, 3, np.inf, 5],\n",
    "        'C2': [np.inf, 2, 3, 4, 5],\n",
    "        'C3': [1, 2, 3, 4, 5]}\n",
    "a = pd.DataFrame(a)\n",
    "a.replace([np.inf, -np.inf], np.nan, inplace=True)\n",
    "a.dropna(inplace=True)\n",
    "print(\"DataFrame after removing infinite values:\")\n",
    "print(a)"
   ]
  },
  {
   "cell_type": "code",
   "execution_count": null,
   "id": "15c5a92a",
   "metadata": {},
   "outputs": [],
   "source": []
  }
 ],
 "metadata": {
  "kernelspec": {
   "display_name": "Python 3 (ipykernel)",
   "language": "python",
   "name": "python3"
  },
  "language_info": {
   "codemirror_mode": {
    "name": "ipython",
    "version": 3
   },
   "file_extension": ".py",
   "mimetype": "text/x-python",
   "name": "python",
   "nbconvert_exporter": "python",
   "pygments_lexer": "ipython3",
   "version": "3.10.9"
  }
 },
 "nbformat": 4,
 "nbformat_minor": 5
}
